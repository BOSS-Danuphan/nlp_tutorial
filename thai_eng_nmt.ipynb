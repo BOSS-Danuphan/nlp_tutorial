{
  "nbformat": 4,
  "nbformat_minor": 0,
  "metadata": {
    "colab": {
      "name": "thai_eng_nmt.ipynb",
      "version": "0.3.2",
      "provenance": [],
      "collapsed_sections": [],
      "include_colab_link": true
    },
    "kernelspec": {
      "name": "python3",
      "display_name": "Python 3"
    },
    "accelerator": "GPU"
  },
  "cells": [
    {
      "cell_type": "markdown",
      "metadata": {
        "id": "view-in-github",
        "colab_type": "text"
      },
      "source": [
        "<a href=\"https://colab.research.google.com/github/BOSS-Danuphan/nlp_tutorial/blob/master/thai_eng_nmt.ipynb\" target=\"_parent\"><img src=\"https://colab.research.google.com/assets/colab-badge.svg\" alt=\"Open In Colab\"/></a>"
      ]
    },
    {
      "cell_type": "markdown",
      "metadata": {
        "id": "TCAQwF4rWX1f",
        "colab_type": "text"
      },
      "source": [
        "# Neural Machine Translation with Attention [Thai-Eng]\n",
        "This note book is based from [TensorFlow Tutorial](https://www.tensorflow.org/beta/tutorials/text/nmt_with_attention).\n",
        "\n",
        "Thai-Eng Dataset: http://www.manythings.org/anki/tha-eng.zip\n",
        "\n",
        "Problem: Seems training set is too small so the performance is teribly bad !!!\n",
        "\n",
        "Dependencies:\n",
        "1. [TensorFlow 2.0](https://www.tensorflow.org/beta/)\n",
        "2. [PyThaiNLP](https://github.com/PyThaiNLP/pythainlp)\n",
        "3. Matplotlib\n",
        "4. scikit-learn"
      ]
    },
    {
      "cell_type": "code",
      "metadata": {
        "id": "JkXBVoVOM6ll",
        "colab_type": "code",
        "colab": {}
      },
      "source": [
        "%matplotlib inline\n",
        "from __future__ import absolute_import, division, print_function\n",
        "\n",
        "!pip install tensorflow-gpu==2.0.0-beta1\n",
        "import tensorflow as tf\n",
        "\n",
        "!pip install pythainlp\n",
        "import pythainlp\n",
        "\n",
        "import matplotlib\n",
        "import matplotlib.pyplot as plt\n",
        "import matplotlib.ticker as ticker\n",
        "from sklearn.model_selection import train_test_split\n",
        "\n",
        "import re\n",
        "import numpy as np\n",
        "import os\n",
        "import io\n",
        "import time"
      ],
      "execution_count": 0,
      "outputs": []
    },
    {
      "cell_type": "code",
      "metadata": {
        "id": "oTFHcYIQV1aY",
        "colab_type": "code",
        "colab": {}
      },
      "source": [
        "# To fix display Thai in matplotlib\n",
        "!wget https://github.com/Phonbopit/sarabun-webfont/raw/master/fonts/thsarabunnew-webfont.ttf -P /usr/local/lib/python3.6/dist-packages/matplotlib/mpl-data/fonts/ttf\n",
        "\n",
        "matplotlib.font_manager._rebuild()\n",
        "matplotlib.rc('font', family='TH Sarabun New')"
      ],
      "execution_count": 0,
      "outputs": []
    },
    {
      "cell_type": "code",
      "metadata": {
        "id": "FHetf0-wNBjs",
        "colab_type": "code",
        "outputId": "2f8ae3bf-07e8-4894-8038-880ceabf801d",
        "colab": {
          "base_uri": "https://localhost:8080/",
          "height": 34
        }
      },
      "source": [
        "tf.__version__"
      ],
      "execution_count": 3,
      "outputs": [
        {
          "output_type": "execute_result",
          "data": {
            "text/plain": [
              "'2.0.0-beta1'"
            ]
          },
          "metadata": {
            "tags": []
          },
          "execution_count": 3
        }
      ]
    },
    {
      "cell_type": "code",
      "metadata": {
        "id": "Be_eXU-iNBl7",
        "colab_type": "code",
        "outputId": "c4c45888-2d44-4edf-a363-99df0cd72e94",
        "colab": {
          "base_uri": "https://localhost:8080/",
          "height": 34
        }
      },
      "source": [
        "!python --version"
      ],
      "execution_count": 4,
      "outputs": [
        {
          "output_type": "stream",
          "text": [
            "Python 3.6.8\n"
          ],
          "name": "stdout"
        }
      ]
    },
    {
      "cell_type": "code",
      "metadata": {
        "id": "ElWJqq9ZNBob",
        "colab_type": "code",
        "outputId": "056eda7d-75dc-42bb-9548-fb86ee08f193",
        "colab": {
          "base_uri": "https://localhost:8080/",
          "height": 85
        }
      },
      "source": [
        "!nvcc --version"
      ],
      "execution_count": 5,
      "outputs": [
        {
          "output_type": "stream",
          "text": [
            "nvcc: NVIDIA (R) Cuda compiler driver\n",
            "Copyright (c) 2005-2018 NVIDIA Corporation\n",
            "Built on Sat_Aug_25_21:08:01_CDT_2018\n",
            "Cuda compilation tools, release 10.0, V10.0.130\n"
          ],
          "name": "stdout"
        }
      ]
    },
    {
      "cell_type": "markdown",
      "metadata": {
        "id": "859ENQcHNmgs",
        "colab_type": "text"
      },
      "source": [
        "## Download and prepare the dataset\n",
        "We'll use a language dataset provided by http://www.manythings.org/anki/. This dataset contains language translation pairs in the format:\n",
        "```\n",
        "I think you're right.\tฉันคิดว่าคุณพูดถูก\n",
        "```"
      ]
    },
    {
      "cell_type": "code",
      "metadata": {
        "id": "FEAQCW8ap9A8",
        "colab_type": "code",
        "colab": {
          "base_uri": "https://localhost:8080/",
          "height": 204
        },
        "outputId": "16510b9c-2f8a-4a62-f507-ab91fcea7e5c"
      },
      "source": [
        "# Download corpus\n",
        "!wget http://www.manythings.org/anki/tha-eng.zip\n",
        "!unzip -p tha-eng.zip tha.txt > tha.txt"
      ],
      "execution_count": 6,
      "outputs": [
        {
          "output_type": "stream",
          "text": [
            "--2019-07-09 12:50:22--  http://www.manythings.org/anki/tha-eng.zip\n",
            "Resolving www.manythings.org (www.manythings.org)... 104.24.109.196, 104.24.108.196, 2606:4700:30::6818:6dc4, ...\n",
            "Connecting to www.manythings.org (www.manythings.org)|104.24.109.196|:80... connected.\n",
            "HTTP request sent, awaiting response... 200 OK\n",
            "Length: 16214 (16K) [application/zip]\n",
            "Saving to: ‘tha-eng.zip’\n",
            "\n",
            "\rtha-eng.zip           0%[                    ]       0  --.-KB/s               \rtha-eng.zip         100%[===================>]  15.83K  --.-KB/s    in 0.1s    \n",
            "\n",
            "2019-07-09 12:50:22 (150 KB/s) - ‘tha-eng.zip’ saved [16214/16214]\n",
            "\n"
          ],
          "name": "stdout"
        }
      ]
    },
    {
      "cell_type": "code",
      "metadata": {
        "id": "9TPlBRkXNGOj",
        "colab_type": "code",
        "colab": {}
      },
      "source": [
        "path_to_file = 'tha.txt'"
      ],
      "execution_count": 0,
      "outputs": []
    },
    {
      "cell_type": "code",
      "metadata": {
        "id": "4FUvF6rxNp98",
        "colab_type": "code",
        "colab": {}
      },
      "source": [
        "def en_preprocess_sentence(w):\n",
        "    w = w.lower().strip()\n",
        "\n",
        "    # creating a space between a word and the punctuation following it\n",
        "    # eg: \"he is a boy.\" => \"he is a boy .\"\n",
        "    # Reference:- https://stackoverflow.com/questions/3645931/python-padding-punctuation-with-white-spaces-keeping-punctuation\n",
        "    w = re.sub(r\"([?.!,])\", r\" \\1 \", w)\n",
        "    w = re.sub(r'[\" \"]+', \" \", w)\n",
        "\n",
        "    # replacing everything with space except (a-z, A-Z, \".\", \"?\", \"!\", \",\")\n",
        "    w = re.sub(r\"[^a-zA-Z?.!,]+\", \" \", w)\n",
        "\n",
        "    w = w.strip()\n",
        "\n",
        "    # adding a start and an end token to the sentence\n",
        "    # so that the model know when to start and stop predicting.\n",
        "    w = '<start> ' + w + ' <end>'\n",
        "    return w\n",
        "\n",
        "def th_preprocess_sentence(w):\n",
        "    w = pythainlp.tokenize.word_tokenize(w)\n",
        "\n",
        "    # adding a start and an end token to the sentence\n",
        "    # so that the model know when to start and stop predicting.\n",
        "    w = '<start> ' + ' '.join(w) + ' <end>'\n",
        "    return w"
      ],
      "execution_count": 0,
      "outputs": []
    },
    {
      "cell_type": "code",
      "metadata": {
        "id": "peqtDC6iQXTS",
        "colab_type": "code",
        "outputId": "ec60c4b2-8138-4ea1-ee27-9c36cf7c9a5f",
        "colab": {
          "base_uri": "https://localhost:8080/",
          "height": 51
        }
      },
      "source": [
        "en_sentence = \"I think you're right.\"\n",
        "th_sentence = \"ฉันคิดว่าคุณพูดถูก\"\n",
        "print(en_preprocess_sentence(en_sentence))\n",
        "print(th_preprocess_sentence(th_sentence))"
      ],
      "execution_count": 9,
      "outputs": [
        {
          "output_type": "stream",
          "text": [
            "<start> i think you re right . <end>\n",
            "<start> ฉัน คิด ว่า คุณ พูด ถูก <end>\n"
          ],
          "name": "stdout"
        }
      ]
    },
    {
      "cell_type": "code",
      "metadata": {
        "id": "WMcBLlaeSxd-",
        "colab_type": "code",
        "colab": {}
      },
      "source": [
        "# 1. Clean the sentences\n",
        "# 2. Return word pairs in the format: [ENGLISH, THAI]\n",
        "def create_dataset(path, num_examples):\n",
        "    lines = io.open(path, encoding='UTF-8').read().strip().split('\\n')\n",
        "    \n",
        "    en_sentences = []\n",
        "    th_sentences = []\n",
        "    \n",
        "    for l in lines[:num_examples]:\n",
        "        en, th = l.split('\\t')\n",
        "        en_sentences.append(en_preprocess_sentence(en))\n",
        "        th_sentences.append(th_preprocess_sentence(th))\n",
        "\n",
        "    return en_sentences, th_sentences"
      ],
      "execution_count": 0,
      "outputs": []
    },
    {
      "cell_type": "code",
      "metadata": {
        "id": "vUSAxUb1UaTk",
        "colab_type": "code",
        "outputId": "6ec6833b-1749-4a65-a4ff-36f96109150a",
        "colab": {
          "base_uri": "https://localhost:8080/",
          "height": 51
        }
      },
      "source": [
        "en, th = create_dataset(path_to_file, None)\n",
        "print(en[-1])\n",
        "print(th[-1])"
      ],
      "execution_count": 11,
      "outputs": [
        {
          "output_type": "stream",
          "text": [
            "<start> he listened very carefully in order not to miss a single word . <end>\n",
            "<start> เขา ฟัง อย่างระมัดระวัง เพื่อ ไม่ ให้ พลาด แม้แต่ คำ เดียว <end>\n"
          ],
          "name": "stdout"
        }
      ]
    },
    {
      "cell_type": "code",
      "metadata": {
        "id": "0a_7skdyVRjU",
        "colab_type": "code",
        "colab": {}
      },
      "source": [
        "def max_length(tensor):\n",
        "    return max(len(t) for t in tensor)"
      ],
      "execution_count": 0,
      "outputs": []
    },
    {
      "cell_type": "code",
      "metadata": {
        "id": "jbUkeewSVcbm",
        "colab_type": "code",
        "colab": {}
      },
      "source": [
        "def tokenize(lang):\n",
        "  lang_tokenizer = tf.keras.preprocessing.text.Tokenizer(\n",
        "      filters='')\n",
        "  lang_tokenizer.fit_on_texts(lang)\n",
        "\n",
        "  tensor = lang_tokenizer.texts_to_sequences(lang)\n",
        "\n",
        "  tensor = tf.keras.preprocessing.sequence.pad_sequences(tensor,\n",
        "                                                         padding='post')\n",
        "\n",
        "  return tensor, lang_tokenizer"
      ],
      "execution_count": 0,
      "outputs": []
    },
    {
      "cell_type": "code",
      "metadata": {
        "id": "gva8sg6OVceM",
        "colab_type": "code",
        "colab": {}
      },
      "source": [
        "def load_dataset(path, num_examples=None):\n",
        "    # creating cleaned input, output pairs\n",
        "    targ_lang, inp_lang = create_dataset(path, num_examples)\n",
        "\n",
        "    input_tensor, inp_lang_tokenizer = tokenize(inp_lang)\n",
        "    target_tensor, targ_lang_tokenizer = tokenize(targ_lang)\n",
        "\n",
        "    return input_tensor, target_tensor, inp_lang_tokenizer, targ_lang_tokenizer"
      ],
      "execution_count": 0,
      "outputs": []
    },
    {
      "cell_type": "code",
      "metadata": {
        "id": "BVYc9501VdoO",
        "colab_type": "code",
        "outputId": "c6f6e83f-db3a-401b-b411-aad2e41a50a6",
        "colab": {
          "base_uri": "https://localhost:8080/",
          "height": 51
        }
      },
      "source": [
        "# Try experimenting with the size of that dataset\n",
        "num_examples = 30000\n",
        "input_tensor, target_tensor, inp_lang, targ_lang = load_dataset(path_to_file, num_examples)\n",
        "\n",
        "# Calculate max_length of the target tensors\n",
        "max_length_targ, max_length_inp = max_length(target_tensor), max_length(input_tensor)\n",
        "print('Max length input:', max_length_inp)\n",
        "print('Max length target:', max_length_targ)"
      ],
      "execution_count": 15,
      "outputs": [
        {
          "output_type": "stream",
          "text": [
            "Max length input: 28\n",
            "Max length target: 18\n"
          ],
          "name": "stdout"
        }
      ]
    },
    {
      "cell_type": "code",
      "metadata": {
        "id": "C-ich6mBYc7_",
        "colab_type": "code",
        "outputId": "c403b0d8-2e81-456f-8944-ccec42c2d33b",
        "colab": {
          "base_uri": "https://localhost:8080/",
          "height": 102
        }
      },
      "source": [
        "input_tensor[-1], target_tensor[-1]"
      ],
      "execution_count": 16,
      "outputs": [
        {
          "output_type": "execute_result",
          "data": {
            "text/plain": [
              "(array([  1,  19, 117, 177,  97,  16,  30, 261, 840, 163, 276,   2,   0,\n",
              "          0,   0,   0,   0,   0,   0,   0,   0,   0,   0,   0,   0,   0,\n",
              "          0,   0], dtype=int32),\n",
              " array([  1,  29, 701, 107, 127,  33, 293,  43,   8, 121,   9, 702, 703,\n",
              "          3,   2,   0,   0,   0], dtype=int32))"
            ]
          },
          "metadata": {
            "tags": []
          },
          "execution_count": 16
        }
      ]
    },
    {
      "cell_type": "code",
      "metadata": {
        "id": "j_oOAXUYVuno",
        "colab_type": "code",
        "outputId": "ef82942a-fe6f-44e9-feac-1bda9c289e5c",
        "colab": {
          "base_uri": "https://localhost:8080/",
          "height": 34
        }
      },
      "source": [
        "# Creating training and validation sets using an 80-20 split\n",
        "input_tensor_train, input_tensor_val, target_tensor_train, target_tensor_val = train_test_split(input_tensor, target_tensor, test_size=0.2)\n",
        "\n",
        "# Show length\n",
        "len(input_tensor_train), len(target_tensor_train), len(input_tensor_val), len(target_tensor_val)"
      ],
      "execution_count": 17,
      "outputs": [
        {
          "output_type": "execute_result",
          "data": {
            "text/plain": [
              "(540, 540, 135, 135)"
            ]
          },
          "metadata": {
            "tags": []
          },
          "execution_count": 17
        }
      ]
    },
    {
      "cell_type": "code",
      "metadata": {
        "id": "s3EoITIaVup3",
        "colab_type": "code",
        "colab": {}
      },
      "source": [
        "def convert(lang, tensor):\n",
        "  for t in tensor:\n",
        "    if t!=0:\n",
        "      print (\"%d ----> %s\" % (t, lang.index_word[t]))"
      ],
      "execution_count": 0,
      "outputs": []
    },
    {
      "cell_type": "code",
      "metadata": {
        "id": "h_JYkGhLVusP",
        "colab_type": "code",
        "outputId": "a2df8d4f-84c9-4964-c6a4-e30ee8645dd9",
        "colab": {
          "base_uri": "https://localhost:8080/",
          "height": 221
        }
      },
      "source": [
        "print (\"Input Language; index to word mapping\")\n",
        "convert(inp_lang, input_tensor_train[0])\n",
        "print ()\n",
        "print (\"Target Language; index to word mapping\")\n",
        "convert(targ_lang, target_tensor_train[0])"
      ],
      "execution_count": 19,
      "outputs": [
        {
          "output_type": "stream",
          "text": [
            "Input Language; index to word mapping\n",
            "1 ----> <start>\n",
            "3 ----> ฉัน\n",
            "206 ----> แพ้\n",
            "2 ----> <end>\n",
            "\n",
            "Target Language; index to word mapping\n",
            "1 ----> <start>\n",
            "4 ----> i\n",
            "154 ----> lost\n",
            "3 ----> .\n",
            "2 ----> <end>\n"
          ],
          "name": "stdout"
        }
      ]
    },
    {
      "cell_type": "code",
      "metadata": {
        "id": "Q6Y1JxVEV0M_",
        "colab_type": "code",
        "outputId": "f8078844-dadf-4255-cb53-3c281aea8241",
        "colab": {
          "base_uri": "https://localhost:8080/",
          "height": 51
        }
      },
      "source": [
        "BUFFER_SIZE = len(input_tensor_train)\n",
        "BATCH_SIZE = 64\n",
        "steps_per_epoch = len(input_tensor_train)//BATCH_SIZE\n",
        "embedding_dim = 256\n",
        "units = 1024\n",
        "vocab_inp_size = len(inp_lang.word_index)+1\n",
        "vocab_tar_size = len(targ_lang.word_index)+1\n",
        "print('Input vocab size (TH):', vocab_inp_size)\n",
        "print('Target vocab size (EN):', vocab_tar_size)\n",
        "\n",
        "dataset = tf.data.Dataset.from_tensor_slices((input_tensor_train, target_tensor_train)).shuffle(BUFFER_SIZE)\n",
        "dataset = dataset.batch(BATCH_SIZE, drop_remainder=True)"
      ],
      "execution_count": 20,
      "outputs": [
        {
          "output_type": "stream",
          "text": [
            "Input vocab size (TH): 841\n",
            "Target vocab size (EN): 704\n"
          ],
          "name": "stdout"
        }
      ]
    },
    {
      "cell_type": "code",
      "metadata": {
        "id": "BN7aX-2xV4ZJ",
        "colab_type": "code",
        "outputId": "b68f8a8a-a78f-44ae-af7d-a9feb5542768",
        "colab": {
          "base_uri": "https://localhost:8080/",
          "height": 170
        }
      },
      "source": [
        "example_input_batch, example_target_batch = next(iter(dataset))\n",
        "print('Input batch shape:', example_input_batch.shape)\n",
        "print('Target batch shape:', example_target_batch.shape)\n",
        "example_input_batch[0], example_target_batch[0]"
      ],
      "execution_count": 21,
      "outputs": [
        {
          "output_type": "stream",
          "text": [
            "Input batch shape: (64, 28)\n",
            "Target batch shape: (64, 18)\n"
          ],
          "name": "stdout"
        },
        {
          "output_type": "execute_result",
          "data": {
            "text/plain": [
              "(<tf.Tensor: id=23, shape=(28,), dtype=int32, numpy=\n",
              " array([  1, 152,  19,   2,   0,   0,   0,   0,   0,   0,   0,   0,   0,\n",
              "          0,   0,   0,   0,   0,   0,   0,   0,   0,   0,   0,   0,   0,\n",
              "          0,   0], dtype=int32)>,\n",
              " <tf.Tensor: id=27, shape=(18,), dtype=int32, numpy=\n",
              " array([  1, 159,  76,   3,   2,   0,   0,   0,   0,   0,   0,   0,   0,\n",
              "          0,   0,   0,   0,   0], dtype=int32)>)"
            ]
          },
          "metadata": {
            "tags": []
          },
          "execution_count": 21
        }
      ]
    },
    {
      "cell_type": "markdown",
      "metadata": {
        "id": "Gys3BxdhWOKx",
        "colab_type": "text"
      },
      "source": [
        "## Write the encoder and decoder model"
      ]
    },
    {
      "cell_type": "code",
      "metadata": {
        "id": "AJ0sKNWbWKBI",
        "colab_type": "code",
        "colab": {}
      },
      "source": [
        "class Encoder(tf.keras.Model):\n",
        "  def __init__(self, vocab_size, embedding_dim, enc_units, batch_sz):\n",
        "    super(Encoder, self).__init__()\n",
        "    self.batch_sz = batch_sz\n",
        "    self.enc_units = enc_units\n",
        "    self.embedding = tf.keras.layers.Embedding(vocab_size, embedding_dim)\n",
        "    self.gru = tf.keras.layers.GRU(self.enc_units,\n",
        "                                   return_sequences=True,\n",
        "                                   return_state=True,\n",
        "                                   recurrent_initializer='glorot_uniform')\n",
        "\n",
        "  def call(self, x, hidden):\n",
        "    x = self.embedding(x)\n",
        "    output, state = self.gru(x, initial_state = hidden)\n",
        "    return output, state\n",
        "\n",
        "  def initialize_hidden_state(self):\n",
        "    return tf.zeros((self.batch_sz, self.enc_units))"
      ],
      "execution_count": 0,
      "outputs": []
    },
    {
      "cell_type": "code",
      "metadata": {
        "id": "_6awj1JGWeH5",
        "colab_type": "code",
        "outputId": "d4b95e6a-6e34-4bf2-e048-3350e82e0724",
        "colab": {
          "base_uri": "https://localhost:8080/",
          "height": 51
        }
      },
      "source": [
        "encoder = Encoder(vocab_inp_size, embedding_dim, units, BATCH_SIZE)\n",
        "\n",
        "# sample input\n",
        "sample_hidden = encoder.initialize_hidden_state()\n",
        "sample_output, sample_hidden = encoder(example_input_batch, sample_hidden)\n",
        "print ('Encoder output shape: (batch size, sequence length, units) {}'.format(sample_output.shape))\n",
        "print ('Encoder Hidden state shape: (batch size, units) {}'.format(sample_hidden.shape))"
      ],
      "execution_count": 23,
      "outputs": [
        {
          "output_type": "stream",
          "text": [
            "Encoder output shape: (batch size, sequence length, units) (64, 28, 1024)\n",
            "Encoder Hidden state shape: (batch size, units) (64, 1024)\n"
          ],
          "name": "stdout"
        }
      ]
    },
    {
      "cell_type": "code",
      "metadata": {
        "id": "DFnOmX3-WeKB",
        "colab_type": "code",
        "colab": {}
      },
      "source": [
        "class BahdanauAttention(tf.keras.Model):\n",
        "  def __init__(self, units):\n",
        "    super(BahdanauAttention, self).__init__()\n",
        "    self.W1 = tf.keras.layers.Dense(units) # for the sequence of encoder outputs\n",
        "    self.W2 = tf.keras.layers.Dense(units) # for the previous hidden state\n",
        "    self.V = tf.keras.layers.Dense(1) # for attention weights\n",
        "\n",
        "  def call(self, query, values):\n",
        "    # query is the previous hidden state\n",
        "    # query shape == (batch_size, encoder hidden size)\n",
        "    # values is the sequence of output from encoder\n",
        "    # values shape == (batch_size, max_length, encoder hidden size)\n",
        "\n",
        "    # hidden shape == (batch_size, hidden size)\n",
        "    # hidden_with_time_axis shape == (batch_size, 1, hidden size)\n",
        "    # we are doing this to perform addition to calculate the score\n",
        "    hidden_with_time_axis = tf.expand_dims(query, 1)\n",
        "\n",
        "    # score shape == (batch_size, max_length, 1)\n",
        "    # we get 1 at the last axis because we are applying score to self.V\n",
        "    # the shape of the tensor before applying self.V is (batch_size, max_length, units)\n",
        "    score = self.V(tf.nn.tanh(\n",
        "        self.W1(values) + self.W2(hidden_with_time_axis)))\n",
        "\n",
        "    # attention_weights shape == (batch_size, max_length, 1)\n",
        "    attention_weights = tf.nn.softmax(score, axis=1)\n",
        "\n",
        "    # context_vector shape after sum == (batch_size, hidden_size)\n",
        "    context_vector = attention_weights * values\n",
        "    context_vector = tf.reduce_sum(context_vector, axis=1)\n",
        "\n",
        "    return context_vector, attention_weights"
      ],
      "execution_count": 0,
      "outputs": []
    },
    {
      "cell_type": "code",
      "metadata": {
        "id": "-gY3IA5WWeLz",
        "colab_type": "code",
        "outputId": "b7805442-d0c4-4eb5-91b1-25c985bd66c7",
        "colab": {
          "base_uri": "https://localhost:8080/",
          "height": 51
        }
      },
      "source": [
        "attention_layer = BahdanauAttention(10)\n",
        "attention_result, attention_weights = attention_layer(sample_hidden, sample_output)\n",
        "\n",
        "print(\"Attention result shape: (batch size, units) {}\".format(attention_result.shape))\n",
        "print(\"Attention weights shape: (batch_size, sequence_length, 1) {}\".format(attention_weights.shape))"
      ],
      "execution_count": 25,
      "outputs": [
        {
          "output_type": "stream",
          "text": [
            "Attention result shape: (batch size, units) (64, 1024)\n",
            "Attention weights shape: (batch_size, sequence_length, 1) (64, 28, 1)\n"
          ],
          "name": "stdout"
        }
      ]
    },
    {
      "cell_type": "code",
      "metadata": {
        "id": "o-zvX5ZLWeNr",
        "colab_type": "code",
        "colab": {}
      },
      "source": [
        "class Decoder(tf.keras.Model):\n",
        "  def __init__(self, vocab_size, embedding_dim, dec_units, batch_sz):\n",
        "    super(Decoder, self).__init__()\n",
        "    self.batch_sz = batch_sz\n",
        "    self.dec_units = dec_units\n",
        "    self.embedding = tf.keras.layers.Embedding(vocab_size, embedding_dim)\n",
        "    self.gru = tf.keras.layers.GRU(self.dec_units,\n",
        "                                   return_sequences=True,\n",
        "                                   return_state=True,\n",
        "                                   recurrent_initializer='glorot_uniform')\n",
        "    self.fc = tf.keras.layers.Dense(vocab_size)\n",
        "\n",
        "    # used for attention\n",
        "    self.attention = BahdanauAttention(self.dec_units)\n",
        "\n",
        "  def call(self, x, hidden, enc_output):\n",
        "    # enc_output shape == (batch_size, max_length, hidden_size)\n",
        "    context_vector, attention_weights = self.attention(hidden, enc_output)\n",
        "\n",
        "    # x shape after passing through embedding == (batch_size, 1, embedding_dim)\n",
        "    x = self.embedding(x)\n",
        "\n",
        "    # x shape after concatenation == (batch_size, 1, embedding_dim + hidden_size)\n",
        "    x = tf.concat([tf.expand_dims(context_vector, 1), x], axis=-1)\n",
        "\n",
        "    # passing the concatenated vector to the GRU\n",
        "    output, state = self.gru(x)\n",
        "\n",
        "    # output shape == (batch_size * 1, hidden_size)\n",
        "    output = tf.reshape(output, (-1, output.shape[2]))\n",
        "\n",
        "    # output shape == (batch_size, vocab)\n",
        "    x = self.fc(output)\n",
        "\n",
        "    return x, state, attention_weights"
      ],
      "execution_count": 0,
      "outputs": []
    },
    {
      "cell_type": "code",
      "metadata": {
        "id": "y6RAh58nXKvL",
        "colab_type": "code",
        "outputId": "63a7ab8a-3312-44c5-dfe3-f454614e874b",
        "colab": {
          "base_uri": "https://localhost:8080/",
          "height": 34
        }
      },
      "source": [
        "decoder = Decoder(vocab_tar_size, embedding_dim, units, BATCH_SIZE)\n",
        "\n",
        "sample_decoder_output, _, _ = decoder(tf.random.uniform((64, 1)),\n",
        "                                      sample_hidden, sample_output)\n",
        "\n",
        "print ('Decoder output shape: (batch_size, vocab size) {}'.format(sample_decoder_output.shape))"
      ],
      "execution_count": 27,
      "outputs": [
        {
          "output_type": "stream",
          "text": [
            "Decoder output shape: (batch_size, vocab size) (64, 704)\n"
          ],
          "name": "stdout"
        }
      ]
    },
    {
      "cell_type": "code",
      "metadata": {
        "id": "su5ncTvKXKxa",
        "colab_type": "code",
        "colab": {}
      },
      "source": [
        "optimizer = tf.keras.optimizers.Adam()\n",
        "loss_object = tf.keras.losses.SparseCategoricalCrossentropy(\n",
        "    from_logits=True, reduction='none')\n",
        "\n",
        "def loss_function(real, pred):\n",
        "  mask = tf.math.logical_not(tf.math.equal(real, 0))\n",
        "  loss_ = loss_object(real, pred)\n",
        "\n",
        "  mask = tf.cast(mask, dtype=loss_.dtype)\n",
        "  loss_ *= mask\n",
        "\n",
        "  return tf.reduce_mean(loss_)"
      ],
      "execution_count": 0,
      "outputs": []
    },
    {
      "cell_type": "code",
      "metadata": {
        "id": "9pegiHknXKzq",
        "colab_type": "code",
        "colab": {}
      },
      "source": [
        "checkpoint_dir = './th_training_checkpoints'\n",
        "checkpoint_prefix = os.path.join(checkpoint_dir, \"ckpt\")\n",
        "checkpoint = tf.train.Checkpoint(optimizer=optimizer,\n",
        "                                 encoder=encoder,\n",
        "                                 decoder=decoder)"
      ],
      "execution_count": 0,
      "outputs": []
    },
    {
      "cell_type": "markdown",
      "metadata": {
        "id": "VFOv3Tvrq2dP",
        "colab_type": "text"
      },
      "source": [
        "## Training"
      ]
    },
    {
      "cell_type": "code",
      "metadata": {
        "id": "OmWf2VsnXK10",
        "colab_type": "code",
        "colab": {}
      },
      "source": [
        "@tf.function\n",
        "def train_step(inp, targ, enc_hidden):\n",
        "  loss = 0\n",
        "\n",
        "  with tf.GradientTape() as tape:\n",
        "    enc_output, enc_hidden = encoder(inp, enc_hidden)\n",
        "\n",
        "    dec_hidden = enc_hidden\n",
        "\n",
        "    dec_input = tf.expand_dims([targ_lang.word_index['<start>']] * BATCH_SIZE, 1)\n",
        "\n",
        "    # Teacher forcing - feeding the target as the next input\n",
        "    for t in range(1, targ.shape[1]):\n",
        "      # passing enc_output to the decoder\n",
        "      predictions, dec_hidden, _ = decoder(dec_input, dec_hidden, enc_output)\n",
        "\n",
        "      loss += loss_function(targ[:, t], predictions)\n",
        "\n",
        "      # using teacher forcing\n",
        "      dec_input = tf.expand_dims(targ[:, t], 1)\n",
        "\n",
        "  batch_loss = (loss / int(targ.shape[1]))\n",
        "\n",
        "  variables = encoder.trainable_variables + decoder.trainable_variables\n",
        "\n",
        "  gradients = tape.gradient(loss, variables)\n",
        "\n",
        "  optimizer.apply_gradients(zip(gradients, variables))\n",
        "\n",
        "  return batch_loss"
      ],
      "execution_count": 0,
      "outputs": []
    },
    {
      "cell_type": "code",
      "metadata": {
        "id": "75bXWPPnq6bC",
        "colab_type": "code",
        "outputId": "eb84dfe4-ccd2-4408-d255-e3377d825990",
        "colab": {
          "base_uri": "https://localhost:8080/",
          "height": 1000
        }
      },
      "source": [
        "EPOCHS = 40\n",
        "\n",
        "for epoch in range(EPOCHS):\n",
        "  start = time.time()\n",
        "\n",
        "  enc_hidden = encoder.initialize_hidden_state()\n",
        "  total_loss = 0\n",
        "\n",
        "  for (batch, (inp, targ)) in enumerate(dataset.take(steps_per_epoch)):\n",
        "    batch_loss = train_step(inp, targ, enc_hidden)\n",
        "    total_loss += batch_loss\n",
        "\n",
        "    if batch % 100 == 0:\n",
        "        print('Epoch {} Batch {} Loss {:.4f}'.format(epoch + 1,\n",
        "                                                     batch,\n",
        "                                                     batch_loss.numpy()))\n",
        "  # saving (checkpoint) the model every 2 epochs\n",
        "  if (epoch + 1) % 2 == 0:\n",
        "    checkpoint.save(file_prefix = checkpoint_prefix)\n",
        "\n",
        "  print('Epoch {} Loss {:.4f}'.format(epoch + 1,\n",
        "                                      total_loss / steps_per_epoch))\n",
        "  print('Time taken for 1 epoch {} sec\\n'.format(time.time() - start))"
      ],
      "execution_count": 31,
      "outputs": [
        {
          "output_type": "stream",
          "text": [
            "Epoch 1 Batch 0 Loss 2.5954\n",
            "Epoch 1 Loss 2.4880\n",
            "Time taken for 1 epoch 53.90183091163635 sec\n",
            "\n",
            "Epoch 2 Batch 0 Loss 1.9640\n",
            "Epoch 2 Loss 1.8256\n",
            "Time taken for 1 epoch 2.9362306594848633 sec\n",
            "\n",
            "Epoch 3 Batch 0 Loss 1.8507\n",
            "Epoch 3 Loss 1.6883\n",
            "Time taken for 1 epoch 2.4051666259765625 sec\n",
            "\n",
            "Epoch 4 Batch 0 Loss 1.7718\n",
            "Epoch 4 Loss 1.6258\n",
            "Time taken for 1 epoch 2.8636314868927 sec\n",
            "\n",
            "Epoch 5 Batch 0 Loss 1.6863\n",
            "Epoch 5 Loss 1.5689\n",
            "Time taken for 1 epoch 2.41739559173584 sec\n",
            "\n",
            "Epoch 6 Batch 0 Loss 1.6363\n",
            "Epoch 6 Loss 1.5282\n",
            "Time taken for 1 epoch 3.1032865047454834 sec\n",
            "\n",
            "Epoch 7 Batch 0 Loss 1.5938\n",
            "Epoch 7 Loss 1.4860\n",
            "Time taken for 1 epoch 2.456629991531372 sec\n",
            "\n",
            "Epoch 8 Batch 0 Loss 1.5456\n",
            "Epoch 8 Loss 1.4350\n",
            "Time taken for 1 epoch 3.152573823928833 sec\n",
            "\n",
            "Epoch 9 Batch 0 Loss 1.4806\n",
            "Epoch 9 Loss 1.3742\n",
            "Time taken for 1 epoch 2.4266297817230225 sec\n",
            "\n",
            "Epoch 10 Batch 0 Loss 1.4051\n",
            "Epoch 10 Loss 1.3118\n",
            "Time taken for 1 epoch 2.837949514389038 sec\n",
            "\n",
            "Epoch 11 Batch 0 Loss 1.3310\n",
            "Epoch 11 Loss 1.2517\n",
            "Time taken for 1 epoch 2.435598134994507 sec\n",
            "\n",
            "Epoch 12 Batch 0 Loss 1.2650\n",
            "Epoch 12 Loss 1.1977\n",
            "Time taken for 1 epoch 3.0038645267486572 sec\n",
            "\n",
            "Epoch 13 Batch 0 Loss 1.2123\n",
            "Epoch 13 Loss 1.1461\n",
            "Time taken for 1 epoch 2.437861919403076 sec\n",
            "\n",
            "Epoch 14 Batch 0 Loss 1.1681\n",
            "Epoch 14 Loss 1.0958\n",
            "Time taken for 1 epoch 3.432084083557129 sec\n",
            "\n",
            "Epoch 15 Batch 0 Loss 1.1174\n",
            "Epoch 15 Loss 1.0486\n",
            "Time taken for 1 epoch 2.434035301208496 sec\n",
            "\n",
            "Epoch 16 Batch 0 Loss 1.0735\n",
            "Epoch 16 Loss 1.0050\n",
            "Time taken for 1 epoch 2.7997562885284424 sec\n",
            "\n",
            "Epoch 17 Batch 0 Loss 1.0331\n",
            "Epoch 17 Loss 0.9677\n",
            "Time taken for 1 epoch 2.4372615814208984 sec\n",
            "\n",
            "Epoch 18 Batch 0 Loss 0.9997\n",
            "Epoch 18 Loss 0.9329\n",
            "Time taken for 1 epoch 2.8653879165649414 sec\n",
            "\n",
            "Epoch 19 Batch 0 Loss 0.9526\n",
            "Epoch 19 Loss 0.8859\n",
            "Time taken for 1 epoch 2.4246585369110107 sec\n",
            "\n",
            "Epoch 20 Batch 0 Loss 0.9266\n",
            "Epoch 20 Loss 0.8534\n",
            "Time taken for 1 epoch 2.816472291946411 sec\n",
            "\n",
            "Epoch 21 Batch 0 Loss 0.9034\n",
            "Epoch 21 Loss 0.8321\n",
            "Time taken for 1 epoch 2.4391424655914307 sec\n",
            "\n",
            "Epoch 22 Batch 0 Loss 0.8424\n",
            "Epoch 22 Loss 0.7980\n",
            "Time taken for 1 epoch 3.378209114074707 sec\n",
            "\n",
            "Epoch 23 Batch 0 Loss 0.8217\n",
            "Epoch 23 Loss 0.7554\n",
            "Time taken for 1 epoch 2.4380133152008057 sec\n",
            "\n",
            "Epoch 24 Batch 0 Loss 0.7721\n",
            "Epoch 24 Loss 0.7125\n",
            "Time taken for 1 epoch 2.8881924152374268 sec\n",
            "\n",
            "Epoch 25 Batch 0 Loss 0.7358\n",
            "Epoch 25 Loss 0.6763\n",
            "Time taken for 1 epoch 2.4406497478485107 sec\n",
            "\n",
            "Epoch 26 Batch 0 Loss 0.6911\n",
            "Epoch 26 Loss 0.6369\n",
            "Time taken for 1 epoch 3.4832305908203125 sec\n",
            "\n",
            "Epoch 27 Batch 0 Loss 0.6454\n",
            "Epoch 27 Loss 0.6017\n",
            "Time taken for 1 epoch 2.4139139652252197 sec\n",
            "\n",
            "Epoch 28 Batch 0 Loss 0.6155\n",
            "Epoch 28 Loss 0.5708\n",
            "Time taken for 1 epoch 2.947704553604126 sec\n",
            "\n",
            "Epoch 29 Batch 0 Loss 0.5782\n",
            "Epoch 29 Loss 0.5520\n",
            "Time taken for 1 epoch 2.454324722290039 sec\n",
            "\n",
            "Epoch 30 Batch 0 Loss 0.5957\n",
            "Epoch 30 Loss 0.5476\n",
            "Time taken for 1 epoch 2.8395144939422607 sec\n",
            "\n",
            "Epoch 31 Batch 0 Loss 0.5762\n",
            "Epoch 31 Loss 0.5216\n",
            "Time taken for 1 epoch 2.4285459518432617 sec\n",
            "\n",
            "Epoch 32 Batch 0 Loss 0.5273\n",
            "Epoch 32 Loss 0.4952\n",
            "Time taken for 1 epoch 2.820309638977051 sec\n",
            "\n",
            "Epoch 33 Batch 0 Loss 0.4910\n",
            "Epoch 33 Loss 0.4632\n",
            "Time taken for 1 epoch 2.430727243423462 sec\n",
            "\n",
            "Epoch 34 Batch 0 Loss 0.4630\n",
            "Epoch 34 Loss 0.4249\n",
            "Time taken for 1 epoch 3.2435083389282227 sec\n",
            "\n",
            "Epoch 35 Batch 0 Loss 0.4216\n",
            "Epoch 35 Loss 0.3851\n",
            "Time taken for 1 epoch 2.414987564086914 sec\n",
            "\n",
            "Epoch 36 Batch 0 Loss 0.3698\n",
            "Epoch 36 Loss 0.3539\n",
            "Time taken for 1 epoch 2.8739073276519775 sec\n",
            "\n",
            "Epoch 37 Batch 0 Loss 0.3378\n",
            "Epoch 37 Loss 0.3207\n",
            "Time taken for 1 epoch 2.450077772140503 sec\n",
            "\n",
            "Epoch 38 Batch 0 Loss 0.3241\n",
            "Epoch 38 Loss 0.3012\n",
            "Time taken for 1 epoch 2.8382809162139893 sec\n",
            "\n",
            "Epoch 39 Batch 0 Loss 0.2964\n",
            "Epoch 39 Loss 0.2871\n",
            "Time taken for 1 epoch 2.423954725265503 sec\n",
            "\n",
            "Epoch 40 Batch 0 Loss 0.2813\n",
            "Epoch 40 Loss 0.2611\n",
            "Time taken for 1 epoch 2.846431016921997 sec\n",
            "\n"
          ],
          "name": "stdout"
        }
      ]
    },
    {
      "cell_type": "markdown",
      "metadata": {
        "id": "LeNtM9hsuNz3",
        "colab_type": "text"
      },
      "source": [
        "## Translate"
      ]
    },
    {
      "cell_type": "code",
      "metadata": {
        "id": "RWhwMKHnuNee",
        "colab_type": "code",
        "colab": {}
      },
      "source": [
        "def evaluate(sentence):\n",
        "    attention_plot = np.zeros((max_length_targ, max_length_inp))\n",
        "\n",
        "    sentence = th_preprocess_sentence(sentence)\n",
        "\n",
        "    inputs = [inp_lang.word_index[i] for i in sentence.split(' ')]\n",
        "    inputs = tf.keras.preprocessing.sequence.pad_sequences([inputs],\n",
        "                                                           maxlen=max_length_inp,\n",
        "                                                           padding='post')\n",
        "    inputs = tf.convert_to_tensor(inputs)\n",
        "\n",
        "    result = ''\n",
        "\n",
        "    hidden = [tf.zeros((1, units))]\n",
        "    enc_out, enc_hidden = encoder(inputs, hidden)\n",
        "\n",
        "    dec_hidden = enc_hidden\n",
        "    dec_input = tf.expand_dims([targ_lang.word_index['<start>']], 0)\n",
        "\n",
        "    for t in range(max_length_targ):\n",
        "        predictions, dec_hidden, attention_weights = decoder(dec_input,\n",
        "                                                             dec_hidden,\n",
        "                                                             enc_out)\n",
        "\n",
        "        # storing the attention weights to plot later on\n",
        "        attention_weights = tf.reshape(attention_weights, (-1, ))\n",
        "        attention_plot[t] = attention_weights.numpy()\n",
        "\n",
        "        predicted_id = tf.argmax(predictions[0]).numpy()\n",
        "\n",
        "        result += targ_lang.index_word[predicted_id] + ' '\n",
        "\n",
        "        if targ_lang.index_word[predicted_id] == '<end>':\n",
        "            return result, sentence, attention_plot\n",
        "\n",
        "        # the predicted ID is fed back into the model\n",
        "        dec_input = tf.expand_dims([predicted_id], 0)\n",
        "\n",
        "    return result, sentence, attention_plot"
      ],
      "execution_count": 0,
      "outputs": []
    },
    {
      "cell_type": "code",
      "metadata": {
        "id": "MgFI8fqPtoiP",
        "colab_type": "code",
        "colab": {}
      },
      "source": [
        "# function for plotting the attention weights\n",
        "def plot_attention(attention, sentence, predicted_sentence):\n",
        "    fig = plt.figure(figsize=(10,10))\n",
        "    ax = fig.add_subplot(1, 1, 1)\n",
        "    ax.matshow(attention, cmap='viridis')\n",
        "\n",
        "    fontdict = {'fontsize': 14}\n",
        "\n",
        "    ax.set_xticklabels([''] + sentence, fontdict=fontdict, rotation=90)\n",
        "    ax.set_yticklabels([''] + predicted_sentence, fontdict=fontdict)\n",
        "\n",
        "    ax.xaxis.set_major_locator(ticker.MultipleLocator(1))\n",
        "    ax.yaxis.set_major_locator(ticker.MultipleLocator(1))\n",
        "\n",
        "    plt.show()"
      ],
      "execution_count": 0,
      "outputs": []
    },
    {
      "cell_type": "code",
      "metadata": {
        "id": "_U4s3aiZ4X0a",
        "colab_type": "code",
        "colab": {}
      },
      "source": [
        "def translate(sentence):\n",
        "    result, sentence, attention_plot = evaluate(sentence)\n",
        "\n",
        "    print('Input: %s' % (sentence))\n",
        "    print('Predicted translation: {}'.format(result))\n",
        "\n",
        "    attention_plot = attention_plot[:len(result.split(' ')), :len(sentence.split(' '))]\n",
        "    plot_attention(attention_plot, sentence.split(' '), result.split(' '))"
      ],
      "execution_count": 0,
      "outputs": []
    },
    {
      "cell_type": "markdown",
      "metadata": {
        "id": "xr7ErFvu4k5B",
        "colab_type": "text"
      },
      "source": [
        "## Restore the latest checkpoint and test"
      ]
    },
    {
      "cell_type": "code",
      "metadata": {
        "id": "_wWCFN6d4grY",
        "colab_type": "code",
        "outputId": "c099158f-bdba-4cb8-c490-5a4299782148",
        "colab": {
          "base_uri": "https://localhost:8080/",
          "height": 34
        }
      },
      "source": [
        "# restoring the latest checkpoint in checkpoint_dir\n",
        "checkpoint.restore(tf.train.latest_checkpoint(checkpoint_dir))"
      ],
      "execution_count": 35,
      "outputs": [
        {
          "output_type": "execute_result",
          "data": {
            "text/plain": [
              "<tensorflow.python.training.tracking.util.CheckpointLoadStatus at 0x7f71a43e43c8>"
            ]
          },
          "metadata": {
            "tags": []
          },
          "execution_count": 35
        }
      ]
    },
    {
      "cell_type": "code",
      "metadata": {
        "id": "xpGwIkC16hUH",
        "colab_type": "code",
        "outputId": "80304c50-1eb8-43c4-ee30-5bf08e8ac333",
        "colab": {
          "base_uri": "https://localhost:8080/",
          "height": 665
        }
      },
      "source": [
        "translate('ฉันอยู่ไม่ได้โดยไม่มีคุณ')"
      ],
      "execution_count": 36,
      "outputs": [
        {
          "output_type": "stream",
          "text": [
            "Input: <start> ฉัน อยู่ ไม่ได้ โดย ไม่มี คุณ <end>\n",
            "Predicted translation: i don t know if i don t know if i don t know if i don t \n"
          ],
          "name": "stdout"
        },
        {
          "output_type": "display_data",
          "data": {
            "image/png": "[encoded data removed]",
            "text/plain": [
              "<Figure size 720x720 with 1 Axes>"
            ]
          },
          "metadata": {
            "tags": []
          }
        }
      ]
    },
    {
      "cell_type": "code",
      "metadata": {
        "id": "kG3Lym954kQ4",
        "colab_type": "code",
        "outputId": "5aecdc95-edea-48fe-e003-e5bcca512898",
        "colab": {
          "base_uri": "https://localhost:8080/",
          "height": 665
        }
      },
      "source": [
        "translate('เธอชื่อมาเรีย')"
      ],
      "execution_count": 37,
      "outputs": [
        {
          "output_type": "stream",
          "text": [
            "Input: <start> เธอ ชื่อ มา เรีย <end>\n",
            "Predicted translation: the lion is the king of the king of the king of the king of the king of \n"
          ],
          "name": "stdout"
        },
        {
          "output_type": "display_data",
          "data": {
            "image/png": "[encoded data removed]",
            "text/plain": [
              "<Figure size 720x720 with 1 Axes>"
            ]
          },
          "metadata": {
            "tags": []
          }
        }
      ]
    },
    {
      "cell_type": "code",
      "metadata": {
        "id": "HfYql-HQ52HY",
        "colab_type": "code",
        "colab": {
          "base_uri": "https://localhost:8080/",
          "height": 665
        },
        "outputId": "216924b6-2b04-4898-b3bb-64d17fa18b01"
      },
      "source": [
        "translate('ฉันรักคุณ')"
      ],
      "execution_count": 40,
      "outputs": [
        {
          "output_type": "stream",
          "text": [
            "Input: <start> ฉัน รัก คุณ <end>\n",
            "Predicted translation: you re in . <end> \n"
          ],
          "name": "stdout"
        },
        {
          "output_type": "display_data",
          "data": {
            "image/png": "[encoded data removed]",
            "text/plain": [
              "<Figure size 720x720 with 1 Axes>"
            ]
          },
          "metadata": {
            "tags": []
          }
        }
      ]
    },
    {
      "cell_type": "code",
      "metadata": {
        "id": "Wlx-TxpozRrQ",
        "colab_type": "code",
        "colab": {
          "base_uri": "https://localhost:8080/",
          "height": 665
        },
        "outputId": "95c2e27c-2874-42d8-e946-5ebee779f24a"
      },
      "source": [
        "translate('ฉันคิดถึงคุณ')"
      ],
      "execution_count": 41,
      "outputs": [
        {
          "output_type": "stream",
          "text": [
            "Input: <start> ฉัน คิดถึง คุณ <end>\n",
            "Predicted translation: i like you . <end> \n"
          ],
          "name": "stdout"
        },
        {
          "output_type": "display_data",
          "data": {
            "image/png": "[encoded data removed]",
            "text/plain": [
              "<Figure size 720x720 with 1 Axes>"
            ]
          },
          "metadata": {
            "tags": []
          }
        }
      ]
    },
    {
      "cell_type": "code",
      "metadata": {
        "id": "LuJXhhhDX35G",
        "colab_type": "code",
        "colab": {
          "base_uri": "https://localhost:8080/",
          "height": 665
        },
        "outputId": "9fd26d3b-8cdb-45ed-f16e-4dc7d3cfbf73"
      },
      "source": [
        "translate('ฉันคิดว่าคุณพูดถูก')"
      ],
      "execution_count": 39,
      "outputs": [
        {
          "output_type": "stream",
          "text": [
            "Input: <start> ฉัน คิด ว่า คุณ พูด ถูก <end>\n",
            "Predicted translation: i think you re right . <end> \n"
          ],
          "name": "stdout"
        },
        {
          "output_type": "display_data",
          "data": {
            "image/png": "[encoded data removed]",
            "text/plain": [
              "<Figure size 720x720 with 1 Axes>"
            ]
          },
          "metadata": {
            "tags": []
          }
        }
      ]
    },
    {
      "cell_type": "code",
      "metadata": {
        "id": "ryJ0gByNsQbZ",
        "colab_type": "code",
        "colab": {}
      },
      "source": [
        ""
      ],
      "execution_count": 0,
      "outputs": []
    }
  ]
}